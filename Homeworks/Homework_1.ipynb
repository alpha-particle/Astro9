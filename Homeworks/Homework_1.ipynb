{
 "cells": [
  {
   "cell_type": "markdown",
   "metadata": {},
   "source": [
    "# Homework Assignment 1: Basic Python  Due: Tuesday, 2 June 2020, midnight PDT\n",
    "\n",
    "In this homework, we will review basic properties of python, specifically loops, conditionals, functions, and basic data structures.\n",
    "\n",
    "Homework Guidelines:\n",
    "\n",
    "1) Document your code! Only part of your score on the homework will be if you get the \"right\" answer. In order for us to understand what you've written, you need to have clearly written code. Documenting your code with comments (# sign) and spacing out your code (but not too much) makes it easier to read. You should also make use of the markdown feature of ipython notebooks for longer explanations or to imbed pictures/formulas. \n",
    "\n",
    "2) For this homework only you don't need to complete a LaTeX writeup. Just turning in the commented code will be sufficient.\n",
    "\n",
    "3) You may google around for tools for solving the homework problems (StackExchange will often pop up!) but DO NOT google the exact problem statement or copy blocks of code from elsewhere.\n",
    "\n",
    "4) You can work in small groups to complete assignments and share code within the small group. Please specify who you worked with if your submitted solutions are similar/identical.\n",
    "\n",
    "5) Various python packages have built in routines for common programming tasks. If you want to use an external (i.e. import X) package which isn't imported in the problem statement please ask the instructor first.\n",
    "\n",
    "6) Some problem statements might be vague or unspecific (like \"Explore the relationship between X and Y\"), just like real research questions! When in doubt it would be useful to provide plots and your observations."
   ]
  },
  {
   "cell_type": "markdown",
   "metadata": {},
   "source": [
    "# Problem 0: Precourse Checklist\n",
    "If you have not already done so, please  \n",
    "1- complete the pre-course survey availabe here: https://docs.google.com/forms/d/e/1FAIpQLSej2Go8XYlXz-OnszlRNFFAwsAV_Qg1wuruVgl-bqQDMTJ3_A/viewform?usp=sf_link <br />\n",
    "2- Sign up for a github account. You will need to turn this in via github classroom!<br />\n",
    "3- Sign up for an overleaf account, or download a different LaTeX editor of your choice.<br />\n",
    "4- Introduce yourself in the introductions slack channel."
   ]
  },
  {
   "cell_type": "markdown",
   "metadata": {},
   "source": [
    "# Problem 1: Using git\n",
    "\n",
    "Turn in this homework in the Github classroom."
   ]
  },
  {
   "cell_type": "markdown",
   "metadata": {},
   "source": [
    "# Problem 2: Largest Prime Factor\n",
    "\n",
    "The prime factors of a number are the list of prime numbers who's product is equal to that number. I.e. 728 -> 2 2 2 7 13.\n",
    "\n",
    "a) Write a function which lists the prime factors of a number.\n",
    "\n",
    "b) What is the largest prime factor of 10,030,508,582,493?"
   ]
  },
  {
   "cell_type": "code",
   "execution_count": 2,
   "metadata": {},
   "outputs": [],
   "source": [
    "def PrimeFactor(n):\n",
    "    #YOUR CODE HERE!\n",
    "    return"
   ]
  },
  {
   "cell_type": "markdown",
   "metadata": {},
   "source": [
    "# Problem 3: Division of Factorial Recursive Calculator\n",
    "\n",
    "A common mathematical calculation that emerges in the field of combinatorics is the ratio of a two factorials, i.e.\n",
    "$$ \\frac{a!}{b!} = \\frac{a!}{(a-n)!}$$.\n",
    "\n",
    "a) Write a recursive program which will calculate this ratio for a given positive integer $a$ and $n$ (where $n<a$). Remember that a recursive function must call itself if a condition isn't met.\n",
    "\n",
    "b) What is the value for $a=10000$ and $n=13$?\n",
    "\n",
    "c) What is the value for $a=89$ and $n=40$?"
   ]
  },
  {
   "cell_type": "markdown",
   "metadata": {},
   "source": [
    "# Problem 4: Largest Palindrome\n",
    "\n",
    "\n",
    "A palindrome remains identical when its characters are reversed order. For example, 101 is a palindrome, as is 9339, and 1029201, and 165090561. All of these numbers, when read in reversed order, remain unchanged. In this problem, we will search for the largest palindrome that is also a product of two numbers. For example, the largest palindrome made from the product of two 2-digit numbers is 9009 = 91 × 99.\n",
    "\n",
    "a) What is the largest palidrome that comes from the product of three 2-digit numbers?\n",
    "\n",
    "b) What is the largest palidrome that comes from the product of two 3-digit numbers?"
   ]
  },
  {
   "cell_type": "code",
   "execution_count": null,
   "metadata": {
    "collapsed": true
   },
   "outputs": [],
   "source": []
  }
 ],
 "metadata": {
  "kernelspec": {
   "display_name": "Python 2",
   "language": "python",
   "name": "python2"
  },
  "language_info": {
   "codemirror_mode": {
    "name": "ipython",
    "version": 2
   },
   "file_extension": ".py",
   "mimetype": "text/x-python",
   "name": "python",
   "nbconvert_exporter": "python",
   "pygments_lexer": "ipython2",
   "version": "2.7.16"
  }
 },
 "nbformat": 4,
 "nbformat_minor": 2
}
