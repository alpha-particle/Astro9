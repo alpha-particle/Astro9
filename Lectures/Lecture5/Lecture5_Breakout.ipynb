{
 "cells": [
  {
   "cell_type": "markdown",
   "metadata": {},
   "source": [
    "# Problem:\n",
    "Suppose we have the differential equation:\n",
    "$$\\frac{dy}{dx} = x - y$$\n",
    "and we know y(3) = 2"
   ]
  },
  {
   "cell_type": "markdown",
   "metadata": {},
   "source": [
    "## Part 1:\n",
    "Use Euler's method with two equal step sizes to aproximate y(6).  (by hand, no coding here)"
   ]
  },
  {
   "cell_type": "markdown",
   "metadata": {},
   "source": [
    "## Part 2:\n",
    "a) write a code to implement Euler's method on the above differential equation."
   ]
  },
  {
   "cell_type": "markdown",
   "metadata": {},
   "source": [
    "b) evaluate y(6) for the $\\Delta$x implied by part 1. Does your answer match?"
   ]
  },
  {
   "cell_type": "markdown",
   "metadata": {},
   "source": [
    "c) now try decreasing your $\\Delta$x (or increasing your number of steps) what does the solution for y(6) approach?"
   ]
  },
  {
   "cell_type": "markdown",
   "metadata": {},
   "source": [
    "d) plot your solution to the above differential equation in the range x = \\[3,10\\]. Do you have a guess to the solution to this equation? Try testing it out or solving it analytically."
   ]
  },
  {
   "cell_type": "code",
   "execution_count": null,
   "metadata": {},
   "outputs": [],
   "source": []
  }
 ],
 "metadata": {
  "kernelspec": {
   "display_name": "Python 2",
   "language": "python",
   "name": "python2"
  },
  "language_info": {
   "codemirror_mode": {
    "name": "ipython",
    "version": 2
   },
   "file_extension": ".py",
   "mimetype": "text/x-python",
   "name": "python",
   "nbconvert_exporter": "python",
   "pygments_lexer": "ipython2",
   "version": "2.7.16"
  }
 },
 "nbformat": 4,
 "nbformat_minor": 2
}
