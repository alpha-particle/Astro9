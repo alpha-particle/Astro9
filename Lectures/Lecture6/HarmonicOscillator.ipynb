{
 "cells": [
  {
   "cell_type": "code",
   "execution_count": 1,
   "metadata": {},
   "outputs": [],
   "source": [
    "import numpy as np\n",
    "import matplotlib.pyplot as plt\n",
    "from numpy.linalg import inv\n",
    "%matplotlib inline"
   ]
  },
  {
   "cell_type": "code",
   "execution_count": 2,
   "metadata": {},
   "outputs": [],
   "source": [
    "#we want to solve the diff eqn: ydot = A-1 * (F-Bdoty)\n",
    "#do this with forward euler, midpoint and RK4"
   ]
  },
  {
   "cell_type": "code",
   "execution_count": 4,
   "metadata": {},
   "outputs": [],
   "source": [
    "def F(t):\n",
    "    F = np.array([0.0,0.0])\n",
    "    if t <15:\n",
    "        F[0] = F0 * np.cos(omega*t)\n",
    "    else:\n",
    "        F[0] = 0.0\n",
    "    return F"
   ]
  },
  {
   "cell_type": "code",
   "execution_count": 3,
   "metadata": {},
   "outputs": [],
   "source": [
    "def G(y,t): return A_inv.dot(F(t)-B.dot(y))"
   ]
  },
  {
   "cell_type": "code",
   "execution_count": null,
   "metadata": {},
   "outputs": [],
   "source": [
    "def ForwardEuler(y,t,dt):\n",
    "    \n",
    "    #return dt*G(y,t)"
   ]
  },
  {
   "cell_type": "code",
   "execution_count": null,
   "metadata": {},
   "outputs": [],
   "source": [
    "def Midpoint(y,t,dt):\n",
    "    \n",
    "    #return dt*k2"
   ]
  },
  {
   "cell_type": "code",
   "execution_count": null,
   "metadata": {},
   "outputs": [],
   "source": [
    "def RK4(y,t,dt):\n",
    "    \n",
    "    #return dt/6*(k1+2*k2+2*k3+k4)"
   ]
  },
  {
   "cell_type": "code",
   "execution_count": 10,
   "metadata": {},
   "outputs": [],
   "source": [
    "#variables\n",
    "m = 2.0\n",
    "k = 2.0\n",
    "c = 0.0 #critical damping = 2*sqrt(m*k)\n",
    "\n",
    "F0 = 0.0\n",
    "omega = 1.0\n",
    "dt = 0.1\n",
    "time = np.arange(0.0,40.0,dt)\n",
    "\n",
    "A = np.array([[m,0.0],[0.0,1.0]])\n",
    "B = np.array([[c,k],[-1.0,0.0]])\n",
    "A_inv = inv(A)"
   ]
  },
  {
   "cell_type": "code",
   "execution_count": 8,
   "metadata": {},
   "outputs": [],
   "source": [
    "YE = []\n",
    "forceE = []\n",
    "YMP = []\n",
    "forceMP = []\n",
    "YRK4 = []\n",
    "forceRK4 = []"
   ]
  },
  {
   "cell_type": "code",
   "execution_count": null,
   "metadata": {},
   "outputs": [],
   "source": [
    "#lets do the time loop\n",
    "y = np.array([0,1])\n",
    "for t in time:\n",
    "    y = y + ForwardEuler(y,t,dt)\n",
    "    YE.append(y[1])\n",
    "    forceE.append(F(t)[0])\n",
    "    \n",
    "    KE = 0.5*m*y[0]**2\n",
    "    PE = 0.5 *k*y[1]**2\n",
    "    \n",
    "    if t %1 <= 0.01:\n",
    "        print \"Total Energy:\",KE+PE"
   ]
  },
  {
   "cell_type": "code",
   "execution_count": null,
   "metadata": {},
   "outputs": [],
   "source": [
    "#plot Y(t)\n",
    "#plot force(t)"
   ]
  }
 ],
 "metadata": {
  "kernelspec": {
   "display_name": "Python 2",
   "language": "python",
   "name": "python2"
  },
  "language_info": {
   "codemirror_mode": {
    "name": "ipython",
    "version": 2
   },
   "file_extension": ".py",
   "mimetype": "text/x-python",
   "name": "python",
   "nbconvert_exporter": "python",
   "pygments_lexer": "ipython2",
   "version": "2.7.16"
  }
 },
 "nbformat": 4,
 "nbformat_minor": 2
}
