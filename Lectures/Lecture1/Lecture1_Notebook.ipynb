{
 "cells": [
  {
   "cell_type": "markdown",
   "metadata": {},
   "source": [
    "# Our First Jupyter Notebook"
   ]
  },
  {
   "cell_type": "markdown",
   "metadata": {},
   "source": [
    "This is a markdown cell, I created it by hitting esc, then m. You can also created them under cell > cell type > markdown. We can use markdown cells to add text around our code snippets. If you choose to do your homework using jupyter notebooks you can comment properly by using these markdown cells."
   ]
  },
  {
   "cell_type": "code",
   "execution_count": 57,
   "metadata": {},
   "outputs": [],
   "source": [
    "#you can also comment in a code cell using \"#\""
   ]
  },
  {
   "cell_type": "markdown",
   "metadata": {},
   "source": [
    "## Importing Libraries"
   ]
  },
  {
   "cell_type": "markdown",
   "metadata": {},
   "source": [
    "The first thing we have to do when using python is import the libraries it will need four our given code. Typically in this class we will need the numpy libary, python's funadamental package for scientific computing, as well as matplotlib, which we will use to visualize data."
   ]
  },
  {
   "cell_type": "code",
   "execution_count": 1,
   "metadata": {},
   "outputs": [],
   "source": [
    "import numpy as np\n",
    "import matplotlib.pyplot as plt\n",
    "%matplotlib inline"
   ]
  },
  {
   "cell_type": "markdown",
   "metadata": {},
   "source": [
    "## The Basics"
   ]
  },
  {
   "cell_type": "markdown",
   "metadata": {},
   "source": [
    "Printing! If you want your code to print the command is easy:"
   ]
  },
  {
   "cell_type": "code",
   "execution_count": 5,
   "metadata": {},
   "outputs": [
    {
     "name": "stdout",
     "output_type": "stream",
     "text": [
      "hello world!\n",
      "57\n"
     ]
    },
    {
     "data": {
      "text/plain": [
       "57"
      ]
     },
     "execution_count": 5,
     "metadata": {},
     "output_type": "execute_result"
    }
   ],
   "source": [
    "print \"hello world!\"\n",
    "x = 22+35\n",
    "print x\n",
    "22+35"
   ]
  },
  {
   "cell_type": "markdown",
   "metadata": {},
   "source": [
    "### Data Types"
   ]
  },
  {
   "cell_type": "markdown",
   "metadata": {},
   "source": [
    "There are three main data types we can use in python. Strings, floating point numbers and integers. We can think of the first as words while the second two are different ways of keeping track of numbers."
   ]
  },
  {
   "cell_type": "code",
   "execution_count": 15,
   "metadata": {},
   "outputs": [
    {
     "name": "stdout",
     "output_type": "stream",
     "text": [
      "I am a string 1023.93 666\n"
     ]
    }
   ],
   "source": [
    "s = \"I am a string\"\n",
    "f = 1023.93\n",
    "i = 666\n",
    "print s,f,i"
   ]
  },
  {
   "cell_type": "markdown",
   "metadata": {},
   "source": [
    "we can also have a boolean, i.e. True or False"
   ]
  },
  {
   "cell_type": "markdown",
   "metadata": {},
   "source": [
    "we can truncate our floats or turn our integers into floats with the following"
   ]
  },
  {
   "cell_type": "code",
   "execution_count": 16,
   "metadata": {},
   "outputs": [
    {
     "name": "stdout",
     "output_type": "stream",
     "text": [
      "I am still a string 1023 666.0\n"
     ]
    }
   ],
   "source": [
    "fti = int(f)\n",
    "itf = float(i)\n",
    "s = \"I am still a string\"\n",
    "print s,fti,itf"
   ]
  },
  {
   "cell_type": "markdown",
   "metadata": {},
   "source": [
    "notice we truncated, we did not properly round 1023.93 to 1024"
   ]
  },
  {
   "cell_type": "markdown",
   "metadata": {},
   "source": [
    "In python strings are actually stored as little lists"
   ]
  },
  {
   "cell_type": "code",
   "execution_count": 25,
   "metadata": {},
   "outputs": [
    {
     "data": {
      "text/plain": [
       "19"
      ]
     },
     "execution_count": 25,
     "metadata": {},
     "output_type": "execute_result"
    }
   ],
   "source": [
    "len(s)"
   ]
  },
  {
   "cell_type": "code",
   "execution_count": 18,
   "metadata": {},
   "outputs": [
    {
     "data": {
      "text/plain": [
       "'a'"
      ]
     },
     "execution_count": 18,
     "metadata": {},
     "output_type": "execute_result"
    }
   ],
   "source": [
    "s[2]"
   ]
  },
  {
   "cell_type": "code",
   "execution_count": 19,
   "metadata": {},
   "outputs": [
    {
     "data": {
      "text/plain": [
       "'g'"
      ]
     },
     "execution_count": 19,
     "metadata": {},
     "output_type": "execute_result"
    }
   ],
   "source": [
    "s[-1]"
   ]
  },
  {
   "cell_type": "code",
   "execution_count": 20,
   "metadata": {},
   "outputs": [
    {
     "data": {
      "text/plain": [
       "'I am still a strin'"
      ]
     },
     "execution_count": 20,
     "metadata": {},
     "output_type": "execute_result"
    }
   ],
   "source": [
    "s[:-1]"
   ]
  },
  {
   "cell_type": "code",
   "execution_count": 21,
   "metadata": {},
   "outputs": [
    {
     "data": {
      "text/plain": [
       "'am still a string'"
      ]
     },
     "execution_count": 21,
     "metadata": {},
     "output_type": "execute_result"
    }
   ],
   "source": [
    "s[2:]"
   ]
  },
  {
   "cell_type": "code",
   "execution_count": 26,
   "metadata": {},
   "outputs": [
    {
     "data": {
      "text/plain": [
       "'am still a strin'"
      ]
     },
     "execution_count": 26,
     "metadata": {},
     "output_type": "execute_result"
    }
   ],
   "source": [
    "s[2:-1]"
   ]
  },
  {
   "cell_type": "code",
   "execution_count": 23,
   "metadata": {},
   "outputs": [
    {
     "data": {
      "text/plain": [
       "'am still a strin'"
      ]
     },
     "execution_count": 23,
     "metadata": {},
     "output_type": "execute_result"
    }
   ],
   "source": [
    "s[2:18]"
   ]
  },
  {
   "cell_type": "markdown",
   "metadata": {},
   "source": [
    "### Lists"
   ]
  },
  {
   "cell_type": "markdown",
   "metadata": {},
   "source": [
    "Lists is a sequence and a basic data structure.   A list may contain strings (text) and numbers.  A list is similar to an array in other programming languages, but has additional functionality."
   ]
  },
  {
   "cell_type": "code",
   "execution_count": 50,
   "metadata": {},
   "outputs": [
    {
     "name": "stdout",
     "output_type": "stream",
     "text": [
      "['Adin', 'Kate', 'Wyatt', 'Mey']\n",
      "Kate\n",
      "K\n"
     ]
    }
   ],
   "source": [
    "students = [\"Adin\",\"Kate\",\"Wyatt\",\"Mey\"]\n",
    "print students\n",
    "print students[1]\n",
    "print students[1][0]"
   ]
  },
  {
   "cell_type": "markdown",
   "metadata": {},
   "source": [
    "We can add students to this list:"
   ]
  },
  {
   "cell_type": "code",
   "execution_count": 51,
   "metadata": {},
   "outputs": [
    {
     "name": "stdout",
     "output_type": "stream",
     "text": [
      "['Adin', 'Kate', 'Wyatt', 'Mey', 'Trina', 'Parth']\n"
     ]
    }
   ],
   "source": [
    "students.append(\"Trina\")\n",
    "students.append(\"Parth\")\n",
    "print students"
   ]
  },
  {
   "cell_type": "markdown",
   "metadata": {},
   "source": [
    "We can also remove elements:"
   ]
  },
  {
   "cell_type": "code",
   "execution_count": 52,
   "metadata": {},
   "outputs": [
    {
     "name": "stdout",
     "output_type": "stream",
     "text": [
      "['Adin', 'Kate', 'Wyatt', 'Mey', 'Parth']\n"
     ]
    }
   ],
   "source": [
    "students.remove(\"Trina\")\n",
    "print students"
   ]
  },
  {
   "cell_type": "markdown",
   "metadata": {},
   "source": [
    "I can also sort them alphabetically, or and reverse a list:"
   ]
  },
  {
   "cell_type": "code",
   "execution_count": 53,
   "metadata": {},
   "outputs": [
    {
     "name": "stdout",
     "output_type": "stream",
     "text": [
      "['Adin', 'Kate', 'Mey', 'Parth', 'Wyatt']\n",
      "['Wyatt', 'Parth', 'Mey', 'Kate', 'Adin']\n"
     ]
    }
   ],
   "source": [
    "students.sort()\n",
    "print students\n",
    "students.reverse()\n",
    "print students"
   ]
  },
  {
   "cell_type": "markdown",
   "metadata": {},
   "source": [
    "## If Statements"
   ]
  },
  {
   "cell_type": "code",
   "execution_count": 56,
   "metadata": {},
   "outputs": [
    {
     "name": "stdout",
     "output_type": "stream",
     "text": [
      "x smaller than 10\n"
     ]
    }
   ],
   "source": [
    "x = 3\n",
    "if x < 10:\n",
    "    print(\"x smaller than 10\")\n",
    "else:\n",
    "    print(\"x is bigger than 10 or equal\")"
   ]
  },
  {
   "cell_type": "markdown",
   "metadata": {},
   "source": [
    "### Conditional Operators\n",
    "!=\tnot equal <br /> \n",
    "==\tequals <br /> \n",
    "\\>\tgreater than  <br /> \n",
    "\\<\tless than <br /> \n",
    "\\>=  greater than or equal to <br />\n",
    "\\<=  less than or equal to <br /> "
   ]
  },
  {
   "cell_type": "markdown",
   "metadata": {},
   "source": [
    "basic if statement:"
   ]
  },
  {
   "cell_type": "code",
   "execution_count": 64,
   "metadata": {},
   "outputs": [
    {
     "name": "stdout",
     "output_type": "stream",
     "text": [
      "What is your Name?\n",
      "Guess: Abigail\n",
      "Hi Abigail.\n"
     ]
    }
   ],
   "source": [
    "a1 = \"Abigail\"\n",
    "\n",
    "print \"What is your Name?\"\n",
    "guess = str(raw_input(\"Guess: \"))\n",
    "if guess != a1:\n",
    "    print(\"I don't think so.\")\n",
    "else:\n",
    "    print(\"Hi Abigail.\")"
   ]
  },
  {
   "cell_type": "markdown",
   "metadata": {},
   "source": [
    "nested if statement:"
   ]
  },
  {
   "cell_type": "code",
   "execution_count": 66,
   "metadata": {},
   "outputs": [
    {
     "name": "stdout",
     "output_type": "stream",
     "text": [
      "What is your Name?\n",
      "Guess: Abigail\n",
      "What is your quest?\n",
      "Guess: to seek the Holy Grail\n",
      "What is your favorite color?\n",
      "Guess: blue\n",
      "... no yellow!\n"
     ]
    }
   ],
   "source": [
    "#wait to type answers until they see where you're going with this\n",
    "a1 = \"Abigail\"\n",
    "a2 = \"to seek the Holy Grail\"\n",
    "a3 = \"yellow\"\n",
    "\n",
    "print \"What is your Name?\"\n",
    "guess = str(raw_input(\"Guess: \"))\n",
    "if guess == a1:\n",
    "    print \"What is your quest?\"\n",
    "    guess = str(raw_input(\"Guess: \"))\n",
    "    if guess == a2:\n",
    "        print \"What is your favorite color?\"\n",
    "        guess = str(raw_input(\"Guess: \"))\n",
    "        if guess != a3:\n",
    "            print(\"... no yellow!\")\n",
    "        else:\n",
    "            print(\"Right. Off you go.\")"
   ]
  },
  {
   "cell_type": "markdown",
   "metadata": {},
   "source": [
    "but we can normally get around nested if statements, using the and / or functions."
   ]
  },
  {
   "cell_type": "code",
   "execution_count": 68,
   "metadata": {},
   "outputs": [
    {
     "name": "stdout",
     "output_type": "stream",
     "text": [
      "What is your Name?\n",
      "Guess: Polin\n",
      "Hello.\n"
     ]
    }
   ],
   "source": [
    "first = \"Abigail\"\n",
    "last  = \"Polin\"\n",
    "\n",
    "print \"What is your Name?\"\n",
    "guess = str(raw_input(\"Guess: \"))\n",
    "if guess == first or guess == last:\n",
    "    print(\"Hello.\")\n",
    "else:\n",
    "    print(\"why do you lie???\")"
   ]
  },
  {
   "cell_type": "markdown",
   "metadata": {},
   "source": [
    "## Functions"
   ]
  },
  {
   "cell_type": "code",
   "execution_count": 90,
   "metadata": {},
   "outputs": [],
   "source": [
    "#pathagoraen formula\n",
    "def pathagoras(a,b):\n",
    "    c = np.sqrt(a*a + b*b)\n",
    "    return c"
   ]
  },
  {
   "cell_type": "code",
   "execution_count": 91,
   "metadata": {},
   "outputs": [
    {
     "data": {
      "text/plain": [
       "5.0"
      ]
     },
     "execution_count": 91,
     "metadata": {},
     "output_type": "execute_result"
    }
   ],
   "source": [
    "pathagoras(3,4)"
   ]
  },
  {
   "cell_type": "code",
   "execution_count": 94,
   "metadata": {},
   "outputs": [
    {
     "name": "stdout",
     "output_type": "stream",
     "text": [
      "5.0\n"
     ]
    }
   ],
   "source": [
    "hyp = pathagoras(3,4)\n",
    "print hyp"
   ]
  },
  {
   "cell_type": "markdown",
   "metadata": {},
   "source": [
    "here a, b, and c are local variables, which only exist inside the function whereas hype is a global variable."
   ]
  },
  {
   "cell_type": "markdown",
   "metadata": {},
   "source": [
    "## Loops"
   ]
  },
  {
   "cell_type": "markdown",
   "metadata": {},
   "source": [
    "Oh no! I forget my students names! What were they again?"
   ]
  },
  {
   "cell_type": "code",
   "execution_count": 96,
   "metadata": {},
   "outputs": [
    {
     "name": "stdout",
     "output_type": "stream",
     "text": [
      "Wyatt\n",
      "Parth\n",
      "Mey\n",
      "Kate\n",
      "Adin\n"
     ]
    }
   ],
   "source": [
    "for s in students:\n",
    "    print s"
   ]
  },
  {
   "cell_type": "code",
   "execution_count": 97,
   "metadata": {},
   "outputs": [],
   "source": [
    "students.sort()"
   ]
  },
  {
   "cell_type": "code",
   "execution_count": 99,
   "metadata": {},
   "outputs": [
    {
     "name": "stdout",
     "output_type": "stream",
     "text": [
      "Adin\n",
      "Kate\n",
      "Mey\n",
      "Parth\n"
     ]
    }
   ],
   "source": [
    "for s in range(len(students)-1):\n",
    "    print students[s]"
   ]
  },
  {
   "cell_type": "markdown",
   "metadata": {},
   "source": [
    "Nested loops. Be careful that they will actuall finish!"
   ]
  },
  {
   "cell_type": "code",
   "execution_count": 101,
   "metadata": {},
   "outputs": [
    {
     "name": "stdout",
     "output_type": "stream",
     "text": [
      " 1 1\n",
      "1 2\n",
      "1 3\n",
      "1 4\n",
      "1 5\n",
      "1 6\n",
      "1 7\n",
      "1 8\n",
      "1 9\n",
      "2 1\n",
      "2 2\n",
      "2 3\n",
      "2 4\n",
      "2 5\n",
      "2 6\n",
      "2 7\n",
      "2 8\n",
      "2 9\n",
      "3 1\n",
      "3 2\n",
      "3 3\n",
      "3 4\n",
      "3 5\n",
      "3 6\n",
      "3 7\n",
      "3 8\n",
      "3 9\n",
      "4 1\n",
      "4 2\n",
      "4 3\n",
      "4 4\n",
      "4 5\n",
      "4 6\n",
      "4 7\n",
      "4 8\n",
      "4 9\n",
      "5 1\n",
      "5 2\n",
      "5 3\n",
      "5 4\n",
      "5 5\n",
      "5 6\n",
      "5 7\n",
      "5 8\n",
      "5 9\n",
      "6 1\n",
      "6 2\n",
      "6 3\n",
      "6 4\n",
      "6 5\n",
      "6 6\n",
      "6 7\n",
      "6 8\n",
      "6 9\n",
      "7 1\n",
      "7 2\n",
      "7 3\n",
      "7 4\n",
      "7 5\n",
      "7 6\n",
      "7 7\n",
      "7 8\n",
      "7 9\n",
      "8 1\n",
      "8 2\n",
      "8 3\n",
      "8 4\n",
      "8 5\n",
      "8 6\n",
      "8 7\n",
      "8 8\n",
      "8 9\n",
      "9 1\n",
      "9 2\n",
      "9 3\n",
      "9 4\n",
      "9 5\n",
      "9 6\n",
      "9 7\n",
      "9 8\n",
      "9 9\n"
     ]
    }
   ],
   "source": [
    "for i in range(1,10):\n",
    "    for j in range(1,10):\n",
    "        print i,j"
   ]
  },
  {
   "cell_type": "markdown",
   "metadata": {},
   "source": [
    "## Reading and Plotting Data"
   ]
  },
  {
   "cell_type": "code",
   "execution_count": 125,
   "metadata": {},
   "outputs": [],
   "source": [
    "infile = 'PlanetInfo.dat'\n",
    "data = np.genfromtxt(infile,dtype=None,comments='#',names=True)"
   ]
  },
  {
   "cell_type": "code",
   "execution_count": 126,
   "metadata": {},
   "outputs": [
    {
     "name": "stdout",
     "output_type": "stream",
     "text": [
      "('Name', 'Mass', 'Diameter', 'Density', 'Gravity', 'EscapeVelocity', 'RotationPeriod', 'LengthofDay', 'DistancefromSun', 'Perihelion', 'Aphelion', 'OrbitalPeriod', 'OrbitalVelocity', 'OrbitalInclination', 'OrbitalEccentricity', 'ObliquitytoOrbit', 'MeanTemperature', 'SurfacePressure', 'NumberofMoons', 'RingSystem', 'GlobalMagneticField')\n"
     ]
    }
   ],
   "source": [
    "print data.dtype.names"
   ]
  },
  {
   "cell_type": "code",
   "execution_count": 127,
   "metadata": {},
   "outputs": [
    {
     "name": "stdout",
     "output_type": "stream",
     "text": [
      "['MERCURY' 'VENUS' 'EARTH' 'MOON' 'MARS' 'JUPITER' 'SATURN' 'URANUS'\n",
      " 'NEPTUNE' 'PLUTO']\n",
      "('EARTH', 5.97, 12756, 5514, 9.8, 11.2, 23.9, 24.0, 149.6, 147.1, 152.1, 365.2, 29.8, 0.0, 0.017, 23.4, 15, 1.0, 1, 'No', 'Yes')\n"
     ]
    }
   ],
   "source": [
    "print data['Name']\n",
    "print data[2]\n",
    "NP = len(data['Name'])"
   ]
  },
  {
   "cell_type": "code",
   "execution_count": 128,
   "metadata": {},
   "outputs": [],
   "source": [
    "with open(infile,'r') as rf:\n",
    "    row = rf.readlines()"
   ]
  },
  {
   "cell_type": "code",
   "execution_count": 129,
   "metadata": {},
   "outputs": [
    {
     "data": {
      "text/plain": [
       "'#none\\t1024kg\\tkm\\tkg/m3\\tm/s2\\tkm/s\\thours\\thours\\t106km\\t106km\\t106km\\tdays\\tkm/s\\tdegrees\\tnone\\tdegrees\\tC\\tbars\\tnone\\tnone\\tnone\\n'"
      ]
     },
     "execution_count": 129,
     "metadata": {},
     "output_type": "execute_result"
    }
   ],
   "source": [
    "row[1]"
   ]
  },
  {
   "cell_type": "code",
   "execution_count": 130,
   "metadata": {},
   "outputs": [
    {
     "name": "stdout",
     "output_type": "stream",
     "text": [
      "['#none', '1024kg', 'km', 'kg/m3', 'm/s2', 'km/s', 'hours', 'hours', '106km', '106km', '106km', 'days', 'km/s', 'degrees', 'none', 'degrees', 'C', 'bars', 'none', 'none', 'none\\n']\n"
     ]
    }
   ],
   "source": [
    "units = row[1].split('\\t')\n",
    "print units"
   ]
  },
  {
   "cell_type": "markdown",
   "metadata": {},
   "source": [
    "so my orbital period is in days and my apihelion is in 106 km"
   ]
  },
  {
   "cell_type": "markdown",
   "metadata": {},
   "source": [
    "Keplers Third Law: The square of the orbital period of a planet is directly proportional to the cube of the semi-major axis of its orbit."
   ]
  },
  {
   "cell_type": "code",
   "execution_count": 149,
   "metadata": {},
   "outputs": [
    {
     "name": "stdout",
     "output_type": "stream",
     "text": [
      "('MOON', 0.073, 3475, 3340, 1.6, 2.4, 655.7, 708.7, 0.384, 0.363, 0.406, 27.3, 1.0, 5.1, 0.055, 6.7, -20, 0.0, 0, 'No', 'No')\n"
     ]
    },
    {
     "data": {
      "image/png": "[encoded data removed]",
      "text/plain": [
       "<Figure size 432x288 with 1 Axes>"
      ]
     },
     "metadata": {
      "needs_background": "light"
     },
     "output_type": "display_data"
    }
   ],
   "source": [
    "plt.scatter(data['OrbitalPeriod'],data['Aphelion'])\n",
    "plt.yscale('log')\n",
    "plt.xscale('log')\n",
    "plt.plot(data['OrbitalPeriod'],data['Aphelion'])\n",
    "print(data[3])"
   ]
  },
  {
   "cell_type": "code",
   "execution_count": 152,
   "metadata": {},
   "outputs": [
    {
     "data": {
      "text/plain": [
       "[<matplotlib.lines.Line2D at 0x10f15bd10>]"
      ]
     },
     "execution_count": 152,
     "metadata": {},
     "output_type": "execute_result"
    },
    {
     "data": {
      "image/png": "[encoded data removed]",
      "text/plain": [
       "<Figure size 432x288 with 1 Axes>"
      ]
     },
     "metadata": {
      "needs_background": "light"
     },
     "output_type": "display_data"
    }
   ],
   "source": [
    "notmoon = (data['Name']!='MOON')\n",
    "plt.scatter(data['OrbitalPeriod'][notmoon],data['Aphelion'][notmoon])\n",
    "plt.yscale('log')\n",
    "plt.xscale('log')\n",
    "plt.plot(data['OrbitalPeriod'][notmoon],data['Aphelion'][notmoon])"
   ]
  },
  {
   "cell_type": "code",
   "execution_count": 162,
   "metadata": {},
   "outputs": [],
   "source": [
    "xx = np.linspace(0.1,1e6,1000)"
   ]
  },
  {
   "cell_type": "code",
   "execution_count": 178,
   "metadata": {},
   "outputs": [
    {
     "data": {
      "image/png": "[encoded data removed]",
      "text/plain": [
       "<Figure size 432x288 with 1 Axes>"
      ]
     },
     "metadata": {
      "needs_background": "light"
     },
     "output_type": "display_data"
    }
   ],
   "source": [
    "plt.title(\"Kepler's Third Law\")\n",
    "plt.ylabel(\"Semi-Major Axis [106 km]\")\n",
    "plt.xlabel(\"Orbital Period [days]\")\n",
    "plt.yscale('log')\n",
    "plt.xscale('log')\n",
    "plt.xlim(6e1,1e5)\n",
    "plt.ylim(1e1,1e4)\n",
    "plt.plot(data['OrbitalPeriod'][notmoon],data['Aphelion'][notmoon],c='black')\n",
    "plt.scatter(data['OrbitalPeriod'][notmoon],data['Aphelion'][notmoon],c='purple',label='Planets')\n",
    "plt.plot(xx,3*xx**(2./3.),c='green',label='2/3 power law')\n",
    "plt.legend()\n",
    "plt.savefig(\"test.pdf\")"
   ]
  },
  {
   "cell_type": "markdown",
   "metadata": {},
   "source": [
    "## Recursive Functions : Fibbinacci Example\n",
    "\n",
    "A recursive function is a function that calls itself!"
   ]
  },
  {
   "cell_type": "code",
   "execution_count": 1,
   "metadata": {},
   "outputs": [],
   "source": [
    "def fib(n):\n",
    "    if n ==0:\n",
    "        return 1\n",
    "    if n==1:\n",
    "        return 1\n",
    "    return fib(n-1) + fib(n-2)"
   ]
  },
  {
   "cell_type": "code",
   "execution_count": 2,
   "metadata": {},
   "outputs": [
    {
     "name": "stdout",
     "output_type": "stream",
     "text": [
      "1\n",
      "1\n",
      "2\n",
      "3\n",
      "5\n",
      "8\n",
      "13\n",
      "21\n",
      "34\n",
      "55\n"
     ]
    }
   ],
   "source": [
    "for i in range(0,10):\n",
    "    print(fib(i))"
   ]
  },
  {
   "cell_type": "markdown",
   "metadata": {},
   "source": [
    "# Advanced Topic: Classes\n",
    "\n",
    "A class is also a data structure! It can hold attributes (essentially data points) as well as methods (functions on those data points or ways to alter them...)"
   ]
  },
  {
   "cell_type": "code",
   "execution_count": 3,
   "metadata": {},
   "outputs": [
    {
     "name": "stdout",
     "output_type": "stream",
     "text": [
      "Ben\n",
      "27\n"
     ]
    }
   ],
   "source": [
    "class Person:\n",
    "    def __init__(self, name, age): #initializer\n",
    "        self.name = name\n",
    "        self.age = age\n",
    "\n",
    "p1 = Person(\"Ben\", 27)\n",
    "\n",
    "print(p1.name)\n",
    "print(p1.age)"
   ]
  },
  {
   "cell_type": "code",
   "execution_count": 4,
   "metadata": {},
   "outputs": [
    {
     "name": "stdout",
     "output_type": "stream",
     "text": [
      "('Ben', 'age is', 27)\n",
      "A year passes...\n",
      "('Ben', 'age is', 28)\n"
     ]
    }
   ],
   "source": [
    "class Person:\n",
    "    def __init__(self, name, age): #initializer\n",
    "        self.name = name\n",
    "        self.age = age\n",
    "    def year_pass(self):\n",
    "        self.age += 1\n",
    "\n",
    "p1 = Person(\"Ben\", 27)\n",
    "\n",
    "print(p1.name, \"age is\",p1.age)\n",
    "\n",
    "print(\"A year passes...\")\n",
    "p1.year_pass()\n",
    " \n",
    "print(p1.name, \"age is\",p1.age)\n"
   ]
  },
  {
   "cell_type": "code",
   "execution_count": 5,
   "metadata": {},
   "outputs": [],
   "source": [
    "class Number:\n",
    "    def __init__(self, value): #initializer\n",
    "        self.value = value\n",
    "    def __add__(self,other): \n",
    "        value = self.value + other.value\n",
    "        return Number(value)"
   ]
  },
  {
   "cell_type": "code",
   "execution_count": 6,
   "metadata": {},
   "outputs": [
    {
     "data": {
      "text/plain": [
       "12"
      ]
     },
     "execution_count": 6,
     "metadata": {},
     "output_type": "execute_result"
    }
   ],
   "source": [
    "New_number = Number(3)+Number(9)\n",
    "New_number.value"
   ]
  },
  {
   "cell_type": "code",
   "execution_count": null,
   "metadata": {},
   "outputs": [],
   "source": []
  }
 ],
 "metadata": {
  "kernelspec": {
   "display_name": "Python 2",
   "language": "python",
   "name": "python2"
  },
  "language_info": {
   "codemirror_mode": {
    "name": "ipython",
    "version": 2
   },
   "file_extension": ".py",
   "mimetype": "text/x-python",
   "name": "python",
   "nbconvert_exporter": "python",
   "pygments_lexer": "ipython2",
   "version": "2.7.16"
  }
 },
 "nbformat": 4,
 "nbformat_minor": 2
}
