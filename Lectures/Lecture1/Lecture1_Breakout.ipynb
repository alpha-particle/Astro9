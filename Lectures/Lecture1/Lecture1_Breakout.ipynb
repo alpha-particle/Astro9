{
 "cells": [
  {
   "cell_type": "markdown",
   "metadata": {},
   "source": [
    "## Question 1 : foobar\n",
    "\n",
    "Write a loop over integers 1 to 60. If the number is divisible by 5 have the code print \"foo\", and if it is divisible by 3 it should print \"bar\". If it is divisible by both it should ONLY print \"fizz.\""
   ]
  },
  {
   "cell_type": "code",
   "execution_count": null,
   "metadata": {},
   "outputs": [],
   "source": [
    "for i in range(0,100):\n",
    "    # your code here!"
   ]
  },
  {
   "cell_type": "markdown",
   "metadata": {},
   "source": [
    "## Question 2 : L33T Speak\n",
    "\n",
    "Write a function that will take in a string and replace every \"i\" with a \"1\" and every \"e\" with a \"3\". I.e. imperial => \"1mp3r1al\". The funcion should output a string."
   ]
  },
  {
   "cell_type": "code",
   "execution_count": null,
   "metadata": {},
   "outputs": [],
   "source": [
    "string = \"imperial\"\n",
    "string[0],string[3]"
   ]
  },
  {
   "cell_type": "markdown",
   "metadata": {},
   "source": [
    "## Question 3 : Basic Class\n",
    "\n",
    "Create a class to store vectors. This class should allow addition through standard plus operation (i.e. have a __add__ method), and also have a method to calculate the vector norm."
   ]
  },
  {
   "cell_type": "code",
   "execution_count": null,
   "metadata": {
    "collapsed": true
   },
   "outputs": [],
   "source": [
    "def Vec(input_list):\n",
    "    def __init__(self,input_list):\n",
    "        self.vec = input_list\n",
    "    #more stuff!"
   ]
  },
  {
   "cell_type": "markdown",
   "metadata": {},
   "source": [
    "## Question 5: Mean/Standard Deviation\n",
    "\n",
    "a) Write a program to take a list of numbers and find its mean and standard deviation.\n",
    "\n",
    "b) Read in the \"test\" file and find the mean and standard deviation of those numbers."
   ]
  },
  {
   "cell_type": "code",
   "execution_count": null,
   "metadata": {},
   "outputs": [],
   "source": []
  }
 ],
 "metadata": {
  "kernelspec": {
   "display_name": "Python 2",
   "language": "python",
   "name": "python2"
  },
  "language_info": {
   "codemirror_mode": {
    "name": "ipython",
    "version": 2
   },
   "file_extension": ".py",
   "mimetype": "text/x-python",
   "name": "python",
   "nbconvert_exporter": "python",
   "pygments_lexer": "ipython2",
   "version": "2.7.16"
  }
 },
 "nbformat": 4,
 "nbformat_minor": 2
}
